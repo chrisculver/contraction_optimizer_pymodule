{
 "cells": [
  {
   "cell_type": "code",
   "execution_count": 1,
   "metadata": {},
   "outputs": [],
   "source": [
    "# Avoids reloading kernel while developing\n",
    "%load_ext autoreload\n",
    "%autoreload 2"
   ]
  },
  {
   "cell_type": "code",
   "execution_count": 2,
   "metadata": {},
   "outputs": [
    {
     "name": "stdout",
     "output_type": "stream",
     "text": [
      "/home/chris/Code/LQCD/contraction_optimizer\n"
     ]
    }
   ],
   "source": [
    "import os\n",
    "\n",
    "print(os.getcwd())"
   ]
  },
  {
   "cell_type": "code",
   "execution_count": 3,
   "metadata": {},
   "outputs": [],
   "source": [
    "import ContractionOptimizerCPP as CO"
   ]
  },
  {
   "cell_type": "code",
   "execution_count": 4,
   "metadata": {},
   "outputs": [],
   "source": [
    "CO.ContractionCost.setDilutionRange(64)"
   ]
  },
  {
   "cell_type": "code",
   "execution_count": 5,
   "metadata": {},
   "outputs": [
    {
     "data": {
      "text/plain": [
       "64"
      ]
     },
     "execution_count": 5,
     "metadata": {},
     "output_type": "execute_result"
    }
   ],
   "source": [
    "CO.ContractionCost.getDilutionRange()"
   ]
  },
  {
   "cell_type": "code",
   "execution_count": 6,
   "metadata": {},
   "outputs": [],
   "source": [
    "graph1 = CO.Graph([\n",
    "    ((0,2), {(0,0), (1,1)}),\n",
    "    ((1,3), {(1,1), (2,2)}),\n",
    "    ((1,2), {(0,2)}),\n",
    "    ((0,3), {(2,0)}),\n",
    "])\n",
    "\n",
    "graph2 = CO.Graph([\n",
    "\t\t  ((0,2), {(0,0), (1,1)}),\n",
    "\t\t  ((1,3), {(1,2), (2,1)}),\n",
    "\t\t  ((1,2), {(0,2)}),\n",
    "\t\t  ((0,3), {(2,0)}),\n",
    "\t  ])"
   ]
  },
  {
   "cell_type": "code",
   "execution_count": 7,
   "metadata": {},
   "outputs": [],
   "source": [
    "d1 = CO.Diagram(graph1, [0,1,2,3])\n",
    "d2 = CO.Diagram(graph2, [0,1,2,4])"
   ]
  },
  {
   "cell_type": "code",
   "execution_count": 8,
   "metadata": {},
   "outputs": [],
   "source": [
    "diagrams=[d1,d2]"
   ]
  },
  {
   "cell_type": "code",
   "execution_count": 9,
   "metadata": {},
   "outputs": [],
   "source": [
    "optimizer = CO.ContractionOptimizer(diagrams)"
   ]
  },
  {
   "cell_type": "code",
   "execution_count": 10,
   "metadata": {},
   "outputs": [
    {
     "name": "stdout",
     "output_type": "stream",
     "text": [
      "{(0, 2): {(1, 1), (0, 0)}, (0, 3): {(2, 0)}, (1, 2): {(0, 2)}, (1, 3): {(1, 1), (2, 2)}}\n",
      "[0, 1, 2, 3]\n",
      "[]\n",
      "\n",
      "{(0, 2): {(1, 1), (0, 0)}, (0, 3): {(2, 0)}, (1, 2): {(0, 2)}, (1, 3): {(1, 2), (2, 1)}}\n",
      "[0, 1, 2, 4]\n",
      "[]\n",
      "\n"
     ]
    }
   ],
   "source": [
    "for diag in optimizer.getDiagramList():\n",
    "    print(diag.getGraph().getContractionList())\n",
    "    print(diag.getRemainingTensors())\n",
    "    print(diag.getResultIdList())\n",
    "    print()"
   ]
  },
  {
   "cell_type": "code",
   "execution_count": 11,
   "metadata": {},
   "outputs": [
    {
     "ename": "",
     "evalue": "",
     "output_type": "error",
     "traceback": [
      "\u001b[1;31mCannot execute code, session has been disposed. Please try restarting the Kernel."
     ]
    },
    {
     "ename": "",
     "evalue": "",
     "output_type": "error",
     "traceback": [
      "\u001b[1;31mThe Kernel crashed while executing code in the the current cell or a previous cell. Please review the code in the cell(s) to identify a possible cause of the failure. Click <a href='https://aka.ms/vscodeJupyterKernelCrash'>here</a> for more info. View Jupyter <a href='command:jupyter.viewOutput'>log</a> for further details."
     ]
    }
   ],
   "source": [
    "optimizer.tune()"
   ]
  },
  {
   "cell_type": "code",
   "execution_count": null,
   "metadata": {},
   "outputs": [],
   "source": []
  }
 ],
 "metadata": {
  "kernelspec": {
   "display_name": "LQCD",
   "language": "python",
   "name": "python3"
  },
  "language_info": {
   "codemirror_mode": {
    "name": "ipython",
    "version": 3
   },
   "file_extension": ".py",
   "mimetype": "text/x-python",
   "name": "python",
   "nbconvert_exporter": "python",
   "pygments_lexer": "ipython3",
   "version": "3.10.6"
  },
  "orig_nbformat": 4
 },
 "nbformat": 4,
 "nbformat_minor": 2
}
