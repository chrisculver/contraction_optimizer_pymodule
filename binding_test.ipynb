{
 "cells": [
  {
   "cell_type": "code",
   "execution_count": null,
   "metadata": {},
   "outputs": [],
   "source": [
    "import ContractionOptimizerCPP as CO\n",
    "\n",
    "CO.ContractionCost.setDilutionRange(64)\n",
    "\n",
    "graph1 = CO.Graph([\n",
    "    ((0,2), {(0,0), (1,1)}),\n",
    "    ((1,3), {(1,1), (2,2)}),\n",
    "    ((1,2), {(0,2)}),\n",
    "    ((0,3), {(2,0)}),\n",
    "])\n",
    "\n",
    "graph2 = CO.Graph([\n",
    "\t\t  ((0,2), {(0,0), (1,1)}),\n",
    "\t\t  ((1,3), {(1,2), (2,1)}),\n",
    "\t\t  ((1,2), {(0,2)}),\n",
    "\t\t  ((0,3), {(2,0)}),\n",
    "\t  ])"
   ]
  },
  {
   "cell_type": "code",
   "execution_count": null,
   "metadata": {},
   "outputs": [],
   "source": [
    "d1 = CO.Diagram(graph1, [0,1,2,3])\n",
    "d2 = CO.Diagram(graph2, [0,1,2,4])"
   ]
  },
  {
   "cell_type": "code",
   "execution_count": null,
   "metadata": {},
   "outputs": [],
   "source": [
    "optimizer = CO.ContractionOptimizer([d1,d2])"
   ]
  },
  {
   "cell_type": "code",
   "execution_count": null,
   "metadata": {},
   "outputs": [
    {
     "name": "stdout",
     "output_type": "stream",
     "text": [
      "Diagram  1 / 2\n",
      "Diagram  2 / 2\n"
     ]
    }
   ],
   "source": [
    "optimizer.tune()"
   ]
  },
  {
   "cell_type": "code",
   "execution_count": null,
   "metadata": {},
   "outputs": [
    {
     "name": "stdout",
     "output_type": "stream",
     "text": [
      "without CSE =  [0, 2, 0, 4, 0]\n",
      "with CSE =  [0, 2, 0, 3, 0]\n"
     ]
    }
   ],
   "source": [
    "print(\"without CSE = \", optimizer.getNoCSECost().getCostArray())\n",
    "print(\"with CSE = \", optimizer.getCSECost().getCostArray())"
   ]
  },
  {
   "cell_type": "code",
   "execution_count": null,
   "metadata": {},
   "outputs": [
    {
     "name": "stdout",
     "output_type": "stream",
     "text": [
      "{(1, 1), (0, 0)}    (0, 5)    6\n",
      "{(1, 1), (2, 2)}    (1, 2)    7\n",
      "{(0, 1), (1, 0)}    (6, 7)    8\n",
      "{(1, 2), (2, 1)}    (1, 2)    9\n",
      "{(0, 1), (1, 0)}    (6, 9)    10\n"
     ]
    }
   ],
   "source": [
    "for c in optimizer.getCompStepList():\n",
    "    print(CO.Graph.decodeElement(c[0]),\"  \", c[1], \"  \", c[2])"
   ]
  },
  {
   "cell_type": "code",
   "execution_count": null,
   "metadata": {},
   "outputs": [
    {
     "name": "stdout",
     "output_type": "stream",
     "text": [
      "[8]\n",
      "[10]\n"
     ]
    }
   ],
   "source": [
    "for d in optimizer.getDiagramList():\n",
    "    print(d.getResultIdList())"
   ]
  },
  {
   "cell_type": "code",
   "execution_count": null,
   "metadata": {},
   "outputs": [],
   "source": []
  },
  {
   "cell_type": "markdown",
   "metadata": {},
   "source": [
    "## No duplicate tensors?"
   ]
  },
  {
   "cell_type": "code",
   "execution_count": 1,
   "metadata": {},
   "outputs": [],
   "source": [
    "import ContractionOptimizerCPP as CO\n",
    "\n",
    "CO.ContractionCost.setDilutionRange(64)\n",
    "\n",
    "graph1 = CO.Graph([\n",
    "    ((0,1), {(0,0), (1,1)})\n",
    "])\n",
    "\n",
    "d1 = CO.Diagram(graph1, [0,1])\n",
    "optimizer = CO.ContractionOptimizer([d1])\n"
   ]
  },
  {
   "cell_type": "code",
   "execution_count": 3,
   "metadata": {},
   "outputs": [
    {
     "name": "stdout",
     "output_type": "stream",
     "text": [
      "Diagram  1 / 1\n"
     ]
    }
   ],
   "source": [
    "optimizer.tune()"
   ]
  },
  {
   "cell_type": "code",
   "execution_count": 4,
   "metadata": {},
   "outputs": [
    {
     "name": "stdout",
     "output_type": "stream",
     "text": [
      "Diagram  1 / 1\n"
     ]
    }
   ],
   "source": [
    "import ContractionOptimizerCPP as CO\n",
    "\n",
    "CO.ContractionCost.setDilutionRange(64)\n",
    "\n",
    "graph1 = CO.Graph([\n",
    "    ((0,1), {(0,0), (1,1)}),\n",
    "    ((2,3), {(0,0), (1,1)})\n",
    "])\n",
    "\n",
    "d1 = CO.Diagram(graph1, [0,1,0,1])\n",
    "optimizer = CO.ContractionOptimizer([d1])\n",
    "optimizer.tune()"
   ]
  },
  {
   "cell_type": "code",
   "execution_count": 2,
   "metadata": {},
   "outputs": [
    {
     "name": "stdout",
     "output_type": "stream",
     "text": [
      "Diagram  1 / 1\n"
     ]
    }
   ],
   "source": [
    "import ContractionOptimizerCPP as CO\n",
    "\n",
    "CO.ContractionCost.setDilutionRange(64)\n",
    "\n",
    "graph1 = CO.Graph([\n",
    "    ((0,1), {(0,0), (1,1), (2,2)}),\n",
    "    ((2,3), {(0,0), (1,1), (2,2)})\n",
    "])\n",
    "#graph2 = CO.Graph([\n",
    "#    ((0,3), {(0,0), (1,1), (2,2)}),\n",
    "#    ((2,1), {(0,0), (1,1), (2,2)})\n",
    "#])\n",
    "\n",
    "d1 = CO.Diagram(graph1, [0,1,0,1])\n",
    "#d2 = CO.Diagram(graph2, [0,1,0,1])\n",
    "#print(d1.getRemainingTensors())\n",
    "#print(d1.getGraph().getContractionList())\n",
    "optimizer = CO.ContractionOptimizer([d1])\n",
    "optimizer.tune()"
   ]
  },
  {
   "cell_type": "code",
   "execution_count": 3,
   "metadata": {},
   "outputs": [
    {
     "data": {
      "text/plain": [
       "{(0, 2): {(0, 0), (1, 1), (2, 2)}, (1, 3): {(0, 0), (1, 1), (2, 2)}}"
      ]
     },
     "execution_count": 3,
     "metadata": {},
     "output_type": "execute_result"
    }
   ],
   "source": [
    "d1.getGraph().getContractionList()"
   ]
  },
  {
   "cell_type": "code",
   "execution_count": null,
   "metadata": {},
   "outputs": [],
   "source": []
  }
 ],
 "metadata": {
  "kernelspec": {
   "display_name": "LQCD",
   "language": "python",
   "name": "python3"
  },
  "language_info": {
   "codemirror_mode": {
    "name": "ipython",
    "version": 3
   },
   "file_extension": ".py",
   "mimetype": "text/x-python",
   "name": "python",
   "nbconvert_exporter": "python",
   "pygments_lexer": "ipython3",
   "version": "3.10.12"
  },
  "orig_nbformat": 4
 },
 "nbformat": 4,
 "nbformat_minor": 2
}
